{
 "cells": [
  {
   "cell_type": "markdown",
   "metadata": {},
   "source": [
    "# Fighting fire with firepower\n",
    "## Part 2: Deploying a neural network\n",
    "<br>\n",
    "<br>\n",
    "\n",
    "> Wayne Chan <br>\n",
    "> Mariam Javed <br>\n",
    "> Shawn Syms "
   ]
  },
  {
   "cell_type": "markdown",
   "metadata": {},
   "source": [
    "<a name=\"contents\"></a>\n",
    "## Contents\n",
    "\n",
    "- [Imports](#Imports)\n",
    "> - [Preprocessing](#Preprocessing)\n",
    "> - [Feature engineering](#Feature-engineering)\n",
    "> - [Modeling](#Modeling)\n",
    "- [Neural Network: Feed Forward](#Neural-Network:-Feed-Forward)"
   ]
  },
  {
   "cell_type": "markdown",
   "metadata": {},
   "source": [
    "## Imports"
   ]
  },
  {
   "cell_type": "code",
   "execution_count": null,
   "metadata": {},
   "outputs": [],
   "source": [
    "import datetime\n",
    "import numpy as np\n",
    "import pandas as pd\n",
    "\n",
    "# presentation and visualization\n",
    "import seaborn as sns\n",
    "import matplotlib.pyplot as plt\n",
    "\n",
    "# keras\n",
    "from keras.layers import Dense\n",
    "from keras.layers import Dropout\n",
    "from keras.callbacks import EarlyStopping\n",
    "from keras.models import Sequential\n",
    "from keras import utils\n",
    "\n",
    "\n",
    "# sci-kit learn \n",
    "from sklearn import preprocessing\n",
    "from sklearn.decomposition import PCA\n",
    "from sklearn.model_selection import cross_val_score, train_test_split \n",
    "from sklearn.preprocessing import LabelEncoder, PolynomialFeatures, StandardScaler"
   ]
  },
  {
   "cell_type": "markdown",
   "metadata": {},
   "source": [
    "<div style=\"text-align: right\">(<a href=\"#contents\">home</a>) </div>"
   ]
  },
  {
   "cell_type": "markdown",
   "metadata": {},
   "source": [
    "## Preprocessing"
   ]
  },
  {
   "cell_type": "code",
   "execution_count": null,
   "metadata": {},
   "outputs": [],
   "source": [
    "# Read in the data\n",
    "\n",
    "df = pd.read_csv('fire_size_class.csv')"
   ]
  },
  {
   "cell_type": "code",
   "execution_count": 3,
   "metadata": {},
   "outputs": [],
   "source": [
    "# Adjust column name case\n",
    "\n",
    "df.columns = map(str.lower, df.columns)"
   ]
  },
  {
   "cell_type": "code",
   "execution_count": null,
   "metadata": {},
   "outputs": [],
   "source": [
    "# Eliminate artefact of csv import\n",
    "\n",
    "df.drop('unnamed: 0', axis = 1, inplace = True)"
   ]
  },
  {
   "cell_type": "code",
   "execution_count": 5,
   "metadata": {},
   "outputs": [
    {
     "data": {
      "text/plain": [
       "(1880465, 11)"
      ]
     },
     "execution_count": 5,
     "metadata": {},
     "output_type": "execute_result"
    }
   ],
   "source": [
    "df.shape"
   ]
  },
  {
   "cell_type": "code",
   "execution_count": null,
   "metadata": {},
   "outputs": [],
   "source": [
    "#let's combine all of the date columns into a single date column\n",
    "\n",
    "df['datetime'] = df['fire_year'].astype(str) + df['discovery_doy'].astype(str)\n",
    "\n",
    "new_list = []\n",
    "\n",
    "for i in df['datetime']:\n",
    "    \n",
    "    dt = datetime.datetime.strptime(i, '%Y%j').strftime('%d/%m/%Y')\n",
    "    new_list.append(dt)\n",
    "    \n",
    "df['dmy'] = new_list"
   ]
  },
  {
   "cell_type": "code",
   "execution_count": null,
   "metadata": {},
   "outputs": [],
   "source": [
    "# Reorder columns\n",
    "\n",
    "cols = df.columns.tolist()\n",
    "cols = ['fire_year', 'discovery_date', 'discovery_doy', 'discovery_time', 'datetime', 'dmy',\n",
    "       'stat_cause_descr', 'latitude', 'longitude', 'state', 'fire_code',\n",
    "       'fire_size', 'fire_size_class']\n",
    "df = df[cols]\n",
    "\n",
    "#rename dmy and stat_cause_descr columns\n",
    "\n",
    "df.rename(columns={'dmy': 'fire_date', 'stat_cause_descr': 'fire_cause'}, inplace = True)"
   ]
  },
  {
   "cell_type": "code",
   "execution_count": 8,
   "metadata": {},
   "outputs": [
    {
     "data": {
      "text/plain": [
       "fire_year                0\n",
       "discovery_date           0\n",
       "discovery_doy            0\n",
       "discovery_time      882638\n",
       "datetime                 0\n",
       "fire_date                0\n",
       "fire_cause               0\n",
       "latitude                 0\n",
       "longitude                0\n",
       "state                    0\n",
       "fire_code          1555741\n",
       "fire_size                0\n",
       "fire_size_class          0\n",
       "dtype: int64"
      ]
     },
     "execution_count": 8,
     "metadata": {},
     "output_type": "execute_result"
    }
   ],
   "source": [
    "# How many nulls do we have?\n",
    "\n",
    "df.isnull().sum()"
   ]
  },
  {
   "cell_type": "code",
   "execution_count": null,
   "metadata": {},
   "outputs": [],
   "source": [
    "# Drop fire_code column\n",
    "\n",
    "df.drop('fire_code', axis = 1, inplace = True)"
   ]
  },
  {
   "cell_type": "markdown",
   "metadata": {},
   "source": [
    "Let's create a function for label encoding and apply it to the df:"
   ]
  },
  {
   "cell_type": "code",
   "execution_count": 12,
   "metadata": {},
   "outputs": [
    {
     "data": {
      "text/html": [
       "<div>\n",
       "<style scoped>\n",
       "    .dataframe tbody tr th:only-of-type {\n",
       "        vertical-align: middle;\n",
       "    }\n",
       "\n",
       "    .dataframe tbody tr th {\n",
       "        vertical-align: top;\n",
       "    }\n",
       "\n",
       "    .dataframe thead th {\n",
       "        text-align: right;\n",
       "    }\n",
       "</style>\n",
       "<table border=\"1\" class=\"dataframe\">\n",
       "  <thead>\n",
       "    <tr style=\"text-align: right;\">\n",
       "      <th></th>\n",
       "      <th>fire_year</th>\n",
       "      <th>discovery_date</th>\n",
       "      <th>discovery_doy</th>\n",
       "      <th>discovery_time</th>\n",
       "      <th>datetime</th>\n",
       "      <th>fire_date</th>\n",
       "      <th>fire_cause</th>\n",
       "      <th>latitude</th>\n",
       "      <th>longitude</th>\n",
       "      <th>state</th>\n",
       "      <th>fire_size</th>\n",
       "      <th>fire_size_class</th>\n",
       "    </tr>\n",
       "  </thead>\n",
       "  <tbody>\n",
       "    <tr>\n",
       "      <th>0</th>\n",
       "      <td>2005</td>\n",
       "      <td>2453403.5</td>\n",
       "      <td>33</td>\n",
       "      <td>1300.0</td>\n",
       "      <td>200533</td>\n",
       "      <td>02/02/2005</td>\n",
       "      <td>7</td>\n",
       "      <td>40.036944</td>\n",
       "      <td>-121.005833</td>\n",
       "      <td>CA</td>\n",
       "      <td>0.10</td>\n",
       "      <td>0</td>\n",
       "    </tr>\n",
       "    <tr>\n",
       "      <th>1</th>\n",
       "      <td>2004</td>\n",
       "      <td>2453137.5</td>\n",
       "      <td>133</td>\n",
       "      <td>845.0</td>\n",
       "      <td>2004133</td>\n",
       "      <td>12/05/2004</td>\n",
       "      <td>6</td>\n",
       "      <td>38.933056</td>\n",
       "      <td>-120.404444</td>\n",
       "      <td>CA</td>\n",
       "      <td>0.25</td>\n",
       "      <td>0</td>\n",
       "    </tr>\n",
       "    <tr>\n",
       "      <th>2</th>\n",
       "      <td>2004</td>\n",
       "      <td>2453156.5</td>\n",
       "      <td>152</td>\n",
       "      <td>1921.0</td>\n",
       "      <td>2004152</td>\n",
       "      <td>31/05/2004</td>\n",
       "      <td>3</td>\n",
       "      <td>38.984167</td>\n",
       "      <td>-120.735556</td>\n",
       "      <td>CA</td>\n",
       "      <td>0.10</td>\n",
       "      <td>0</td>\n",
       "    </tr>\n",
       "    <tr>\n",
       "      <th>3</th>\n",
       "      <td>2004</td>\n",
       "      <td>2453184.5</td>\n",
       "      <td>180</td>\n",
       "      <td>1600.0</td>\n",
       "      <td>2004180</td>\n",
       "      <td>28/06/2004</td>\n",
       "      <td>6</td>\n",
       "      <td>38.559167</td>\n",
       "      <td>-119.913333</td>\n",
       "      <td>CA</td>\n",
       "      <td>0.10</td>\n",
       "      <td>0</td>\n",
       "    </tr>\n",
       "    <tr>\n",
       "      <th>4</th>\n",
       "      <td>2004</td>\n",
       "      <td>2453184.5</td>\n",
       "      <td>180</td>\n",
       "      <td>1600.0</td>\n",
       "      <td>2004180</td>\n",
       "      <td>28/06/2004</td>\n",
       "      <td>6</td>\n",
       "      <td>38.559167</td>\n",
       "      <td>-119.933056</td>\n",
       "      <td>CA</td>\n",
       "      <td>0.10</td>\n",
       "      <td>0</td>\n",
       "    </tr>\n",
       "  </tbody>\n",
       "</table>\n",
       "</div>"
      ],
      "text/plain": [
       "   fire_year  discovery_date  discovery_doy  discovery_time datetime  \\\n",
       "0       2005       2453403.5             33          1300.0   200533   \n",
       "1       2004       2453137.5            133           845.0  2004133   \n",
       "2       2004       2453156.5            152          1921.0  2004152   \n",
       "3       2004       2453184.5            180          1600.0  2004180   \n",
       "4       2004       2453184.5            180          1600.0  2004180   \n",
       "\n",
       "    fire_date  fire_cause   latitude   longitude state  fire_size  \\\n",
       "0  02/02/2005           7  40.036944 -121.005833    CA       0.10   \n",
       "1  12/05/2004           6  38.933056 -120.404444    CA       0.25   \n",
       "2  31/05/2004           3  38.984167 -120.735556    CA       0.10   \n",
       "3  28/06/2004           6  38.559167 -119.913333    CA       0.10   \n",
       "4  28/06/2004           6  38.559167 -119.933056    CA       0.10   \n",
       "\n",
       "   fire_size_class  \n",
       "0                0  \n",
       "1                0  \n",
       "2                0  \n",
       "3                0  \n",
       "4                0  "
      ]
     },
     "execution_count": 12,
     "metadata": {},
     "output_type": "execute_result"
    }
   ],
   "source": [
    "# Create functions for label_encoding \n",
    "\n",
    "def label_encoding(df, col_name):\n",
    "    le = LabelEncoder()\n",
    "    df[col_name] = le.fit_transform(df[col_name])\n",
    "    return df.head()\n",
    "\n",
    "label_encoding(df, 'fire_cause')\n",
    "label_encoding(df, 'fire_size_class')"
   ]
  },
  {
   "cell_type": "markdown",
   "metadata": {},
   "source": [
    "Let's drop the fire_size column because it's directly correlated to the fire_size_class column:"
   ]
  },
  {
   "cell_type": "code",
   "execution_count": 13,
   "metadata": {},
   "outputs": [],
   "source": [
    "df.drop('fire_size', axis = 1, inplace = True)"
   ]
  },
  {
   "cell_type": "markdown",
   "metadata": {},
   "source": [
    "<div style=\"text-align: right\">(<a href=\"#contents\">home</a>) </div>"
   ]
  },
  {
   "cell_type": "markdown",
   "metadata": {},
   "source": [
    "## Feature engineering"
   ]
  },
  {
   "cell_type": "code",
   "execution_count": null,
   "metadata": {},
   "outputs": [],
   "source": [
    "# Longitude and latitude or normally used together; let's create a new column that combines them\n",
    "\n",
    "df['longlat'] = df['longitude'] * df['latitude']\n",
    "\n",
    "# We know that the time of year and the location play a role in fires\n",
    "\n",
    "df['timelocation'] = df['longlat'] * df['discovery_time'] * df['discovery_date']"
   ]
  },
  {
   "cell_type": "code",
   "execution_count": null,
   "metadata": {},
   "outputs": [],
   "source": [
    "df['cause_timelocation'] = df['fire_cause'] * df['timelocation']"
   ]
  },
  {
   "cell_type": "code",
   "execution_count": null,
   "metadata": {},
   "outputs": [],
   "source": [
    "df['doy_time_location'] = df['discovery_doy'] * df['timelocation']"
   ]
  },
  {
   "cell_type": "markdown",
   "metadata": {},
   "source": [
    "Let's also create some polynomial features:"
   ]
  },
  {
   "cell_type": "code",
   "execution_count": 21,
   "metadata": {},
   "outputs": [],
   "source": [
    "# Create polynomial features excluding year and date\n",
    "\n",
    "features = ['fire_year', 'discovery_date', 'discovery_doy',\n",
    "       'datetime','fire_cause', 'latitude', 'longitude', 'longlat']\n",
    "\n",
    "X = df[features]\n",
    "y = df['fire_size_class']"
   ]
  },
  {
   "cell_type": "code",
   "execution_count": 22,
   "metadata": {},
   "outputs": [],
   "source": [
    "poly = PolynomialFeatures(include_bias = False)\n",
    "X_poly = poly.fit_transform(X)\n",
    "\n",
    "df = pd.DataFrame(data = X_poly, columns = poly.get_feature_names(features))\n",
    "\n",
    "# Add target back\n",
    "\n",
    "df['fire_size_class'] = y"
   ]
  },
  {
   "cell_type": "code",
   "execution_count": null,
   "metadata": {},
   "outputs": [],
   "source": [
    "# Let's create a subset of the dataframe to work with\n",
    "\n",
    "df = df.groupby('fire_year').apply(lambda x: x.sample(10_000)).reset_index(drop=True)"
   ]
  },
  {
   "cell_type": "code",
   "execution_count": 28,
   "metadata": {},
   "outputs": [
    {
     "data": {
      "text/plain": [
       "(240000, 45)"
      ]
     },
     "execution_count": 28,
     "metadata": {},
     "output_type": "execute_result"
    }
   ],
   "source": [
    "df.shape"
   ]
  },
  {
   "cell_type": "markdown",
   "metadata": {},
   "source": [
    "<div style=\"text-align: right\">(<a href=\"#contents\">home</a>) </div>"
   ]
  },
  {
   "cell_type": "markdown",
   "metadata": {},
   "source": [
    "## Modeling"
   ]
  },
  {
   "cell_type": "code",
   "execution_count": 29,
   "metadata": {},
   "outputs": [],
   "source": [
    "# Set features and target variables\n",
    "\n",
    "X = df.drop(['fire_size_class'], axis = 1)\n",
    "y = df['fire_size_class']"
   ]
  },
  {
   "cell_type": "code",
   "execution_count": 30,
   "metadata": {},
   "outputs": [],
   "source": [
    "# Set up our train-test split\n",
    "\n",
    "X_train, X_test, y_train, y_test = train_test_split(X, y, test_size = 0.2, random_state = 42, stratify = y)"
   ]
  },
  {
   "cell_type": "markdown",
   "metadata": {},
   "source": [
    "Our baseline estimator:"
   ]
  },
  {
   "cell_type": "code",
   "execution_count": 31,
   "metadata": {},
   "outputs": [
    {
     "data": {
      "text/plain": [
       "1    0.497417\n",
       "0    0.358500\n",
       "2    0.116292\n",
       "3    0.014375\n",
       "4    0.007479\n",
       "5    0.003938\n",
       "6    0.002000\n",
       "Name: fire_size_class, dtype: float64"
      ]
     },
     "execution_count": 31,
     "metadata": {},
     "output_type": "execute_result"
    }
   ],
   "source": [
    "y_test.value_counts(normalize = True)"
   ]
  },
  {
   "cell_type": "code",
   "execution_count": 32,
   "metadata": {},
   "outputs": [
    {
     "data": {
      "text/plain": [
       "(240000, 45)"
      ]
     },
     "execution_count": 32,
     "metadata": {},
     "output_type": "execute_result"
    }
   ],
   "source": [
    "df.shape"
   ]
  },
  {
   "cell_type": "markdown",
   "metadata": {},
   "source": [
    "Let's train a Neural Network!"
   ]
  },
  {
   "cell_type": "markdown",
   "metadata": {},
   "source": [
    "<div style=\"text-align: right\">(<a href=\"#contents\">home</a>) </div>"
   ]
  },
  {
   "cell_type": "markdown",
   "metadata": {},
   "source": [
    "## Neural Network: Feed Forward"
   ]
  },
  {
   "cell_type": "code",
   "execution_count": 36,
   "metadata": {},
   "outputs": [],
   "source": [
    "# Configure our y as the array that Keras expects\n",
    "\n",
    "y_train = utils.to_categorical(y_train, 7)\n",
    "y_test = utils.to_categorical(y_test, 7)"
   ]
  },
  {
   "cell_type": "code",
   "execution_count": 37,
   "metadata": {},
   "outputs": [
    {
     "name": "stdout",
     "output_type": "stream",
     "text": [
      "WARNING:tensorflow:From /Users/mariamjaved/anaconda3/lib/python3.6/site-packages/tensorflow/python/ops/resource_variable_ops.py:435: colocate_with (from tensorflow.python.framework.ops) is deprecated and will be removed in a future version.\n",
      "Instructions for updating:\n",
      "Colocations handled automatically by placer.\n"
     ]
    }
   ],
   "source": [
    "# Apply standard scaling\n",
    "\n",
    "ss = StandardScaler()\n",
    "X_train_sc = ss.fit_transform(X_train)\n",
    "X_test_sc = ss.transform(X_test)\n",
    "\n",
    "# Establish network topology\n",
    "model = Sequential()\n",
    "model.add(Dense(256, input_shape = (44,), activation = 'relu'))\n",
    "model.add(Dropout(0.5)) #can add drop out here\n",
    "model.add(Dense(128, activation = 'relu'))\n",
    "model.add(Dense(64, activation = 'relu'))\n",
    "model.add(Dense(7, activation = 'softmax'))\n",
    "\n",
    "# Compile NN model\n",
    "model.compile(loss = 'categorical_crossentropy', optimizer = 'adam', metrics = ['accuracy'])"
   ]
  },
  {
   "cell_type": "code",
   "execution_count": 38,
   "metadata": {},
   "outputs": [
    {
     "name": "stdout",
     "output_type": "stream",
     "text": [
      "Model: \"sequential_1\"\n",
      "_________________________________________________________________\n",
      "Layer (type)                 Output Shape              Param #   \n",
      "=================================================================\n",
      "dense_1 (Dense)              (None, 256)               11520     \n",
      "_________________________________________________________________\n",
      "dropout_1 (Dropout)          (None, 256)               0         \n",
      "_________________________________________________________________\n",
      "dense_2 (Dense)              (None, 128)               32896     \n",
      "_________________________________________________________________\n",
      "dense_3 (Dense)              (None, 64)                8256      \n",
      "_________________________________________________________________\n",
      "dense_4 (Dense)              (None, 7)                 455       \n",
      "=================================================================\n",
      "Total params: 53,127\n",
      "Trainable params: 53,127\n",
      "Non-trainable params: 0\n",
      "_________________________________________________________________\n"
     ]
    }
   ],
   "source": [
    "model.summary()"
   ]
  },
  {
   "cell_type": "code",
   "execution_count": 39,
   "metadata": {},
   "outputs": [
    {
     "name": "stdout",
     "output_type": "stream",
     "text": [
      "WARNING:tensorflow:From /Users/mariamjaved/anaconda3/lib/python3.6/site-packages/tensorflow/python/ops/math_ops.py:3066: to_int32 (from tensorflow.python.ops.math_ops) is deprecated and will be removed in a future version.\n",
      "Instructions for updating:\n",
      "Use tf.cast instead.\n",
      "Train on 192000 samples, validate on 48000 samples\n",
      "Epoch 1/100\n",
      "192000/192000 [==============================] - 17s 88us/step - loss: 1.0105 - accuracy: 0.5880 - val_loss: 0.9753 - val_accuracy: 0.6018\n",
      "Epoch 2/100\n",
      "192000/192000 [==============================] - 19s 101us/step - loss: 0.9868 - accuracy: 0.5961 - val_loss: 0.9697 - val_accuracy: 0.6059\n",
      "Epoch 3/100\n",
      "192000/192000 [==============================] - 15s 76us/step - loss: 0.9789 - accuracy: 0.5979 - val_loss: 0.9608 - val_accuracy: 0.6063\n",
      "Epoch 4/100\n",
      "192000/192000 [==============================] - 14s 75us/step - loss: 0.9744 - accuracy: 0.5993 - val_loss: 0.9592 - val_accuracy: 0.6057\n",
      "Epoch 5/100\n",
      "192000/192000 [==============================] - 19s 97us/step - loss: 0.9706 - accuracy: 0.6002 - val_loss: 0.9559 - val_accuracy: 0.6092\n",
      "Epoch 6/100\n",
      "192000/192000 [==============================] - 17s 88us/step - loss: 0.9682 - accuracy: 0.6007 - val_loss: 0.9540 - val_accuracy: 0.6065\n",
      "Epoch 7/100\n",
      "192000/192000 [==============================] - 21s 112us/step - loss: 0.9666 - accuracy: 0.6015 - val_loss: 0.9496 - val_accuracy: 0.6094\n",
      "Epoch 8/100\n",
      "192000/192000 [==============================] - 17s 87us/step - loss: 0.9644 - accuracy: 0.6018 - val_loss: 0.9502 - val_accuracy: 0.6079\n",
      "Epoch 9/100\n",
      "192000/192000 [==============================] - 18s 94us/step - loss: 0.9628 - accuracy: 0.6026 - val_loss: 0.9477 - val_accuracy: 0.6083\n",
      "Epoch 10/100\n",
      "192000/192000 [==============================] - 17s 90us/step - loss: 0.9620 - accuracy: 0.6027 - val_loss: 0.9445 - val_accuracy: 0.6104\n",
      "Epoch 11/100\n",
      "192000/192000 [==============================] - 16s 86us/step - loss: 0.9614 - accuracy: 0.6034 - val_loss: 0.9497 - val_accuracy: 0.6081\n",
      "Epoch 12/100\n",
      "192000/192000 [==============================] - 18s 93us/step - loss: 0.9604 - accuracy: 0.6027 - val_loss: 0.9493 - val_accuracy: 0.6057\n",
      "Epoch 13/100\n",
      "192000/192000 [==============================] - 18s 94us/step - loss: 0.9603 - accuracy: 0.6039 - val_loss: 0.9456 - val_accuracy: 0.6071\n",
      "Epoch 14/100\n",
      "192000/192000 [==============================] - 17s 88us/step - loss: 0.9588 - accuracy: 0.6034 - val_loss: 0.9457 - val_accuracy: 0.6100\n",
      "Epoch 15/100\n",
      "192000/192000 [==============================] - 17s 88us/step - loss: 0.9584 - accuracy: 0.6032 - val_loss: 0.9448 - val_accuracy: 0.6075\n",
      "Epoch 16/100\n",
      "192000/192000 [==============================] - 17s 90us/step - loss: 0.9580 - accuracy: 0.6040 - val_loss: 0.9440 - val_accuracy: 0.6085\n",
      "Epoch 17/100\n",
      "192000/192000 [==============================] - 18s 92us/step - loss: 0.9557 - accuracy: 0.6055 - val_loss: 0.9391 - val_accuracy: 0.6106\n",
      "Epoch 18/100\n",
      "192000/192000 [==============================] - 18s 95us/step - loss: 0.9558 - accuracy: 0.6046 - val_loss: 0.9439 - val_accuracy: 0.6101\n",
      "Epoch 19/100\n",
      "192000/192000 [==============================] - 17s 91us/step - loss: 0.9543 - accuracy: 0.6050 - val_loss: 0.9419 - val_accuracy: 0.6113\n",
      "Epoch 20/100\n",
      "192000/192000 [==============================] - 18s 92us/step - loss: 0.9541 - accuracy: 0.6048 - val_loss: 0.9429 - val_accuracy: 0.6103\n",
      "Epoch 21/100\n",
      "192000/192000 [==============================] - 20s 105us/step - loss: 0.9534 - accuracy: 0.6060 - val_loss: 0.9419 - val_accuracy: 0.6112\n",
      "Epoch 22/100\n",
      "192000/192000 [==============================] - 17s 88us/step - loss: 0.9536 - accuracy: 0.6054 - val_loss: 0.9388 - val_accuracy: 0.6115\n",
      "Epoch 23/100\n",
      "192000/192000 [==============================] - 20s 103us/step - loss: 0.9529 - accuracy: 0.6058 - val_loss: 0.9391 - val_accuracy: 0.6125\n",
      "Epoch 24/100\n",
      "192000/192000 [==============================] - 18s 93us/step - loss: 0.9530 - accuracy: 0.6062 - val_loss: 0.9383 - val_accuracy: 0.6134\n",
      "Epoch 25/100\n",
      "192000/192000 [==============================] - 20s 102us/step - loss: 0.9516 - accuracy: 0.6068 - val_loss: 0.9381 - val_accuracy: 0.6115\n",
      "Epoch 26/100\n",
      "192000/192000 [==============================] - 19s 101us/step - loss: 0.9509 - accuracy: 0.6065 - val_loss: 0.9377 - val_accuracy: 0.6129\n",
      "Epoch 27/100\n",
      "192000/192000 [==============================] - 18s 92us/step - loss: 0.9512 - accuracy: 0.6069 - val_loss: 0.9343 - val_accuracy: 0.6136\n",
      "Epoch 28/100\n",
      "192000/192000 [==============================] - 18s 93us/step - loss: 0.9511 - accuracy: 0.6068 - val_loss: 0.9353 - val_accuracy: 0.6097\n",
      "Epoch 29/100\n",
      "192000/192000 [==============================] - 16s 85us/step - loss: 0.9505 - accuracy: 0.6064 - val_loss: 0.9384 - val_accuracy: 0.6129\n",
      "Epoch 30/100\n",
      "192000/192000 [==============================] - 19s 97us/step - loss: 0.9504 - accuracy: 0.6082 - val_loss: 0.9368 - val_accuracy: 0.6129\n",
      "Epoch 31/100\n",
      "192000/192000 [==============================] - 18s 96us/step - loss: 0.9501 - accuracy: 0.6087 - val_loss: 0.9393 - val_accuracy: 0.6110\n",
      "Epoch 32/100\n",
      "192000/192000 [==============================] - 18s 92us/step - loss: 0.9497 - accuracy: 0.6073 - val_loss: 0.9365 - val_accuracy: 0.6135\n",
      "Epoch 33/100\n",
      "192000/192000 [==============================] - 16s 85us/step - loss: 0.9492 - accuracy: 0.6074 - val_loss: 0.9364 - val_accuracy: 0.6144\n",
      "Epoch 34/100\n",
      "192000/192000 [==============================] - 19s 98us/step - loss: 0.9502 - accuracy: 0.6070 - val_loss: 0.9371 - val_accuracy: 0.6135\n",
      "Epoch 35/100\n",
      "192000/192000 [==============================] - 18s 92us/step - loss: 0.9492 - accuracy: 0.6074 - val_loss: 0.9368 - val_accuracy: 0.6143\n",
      "Epoch 36/100\n",
      "192000/192000 [==============================] - 18s 92us/step - loss: 0.9485 - accuracy: 0.6075 - val_loss: 0.9363 - val_accuracy: 0.6144\n",
      "Epoch 37/100\n",
      "192000/192000 [==============================] - 19s 100us/step - loss: 0.9479 - accuracy: 0.6079 - val_loss: 0.9358 - val_accuracy: 0.6148\n",
      "Epoch 38/100\n",
      "192000/192000 [==============================] - 20s 103us/step - loss: 0.9474 - accuracy: 0.6086 - val_loss: 0.9349 - val_accuracy: 0.6136\n",
      "Epoch 39/100\n",
      "192000/192000 [==============================] - 19s 98us/step - loss: 0.9489 - accuracy: 0.6082 - val_loss: 0.9368 - val_accuracy: 0.6110\n",
      "Epoch 40/100\n",
      "192000/192000 [==============================] - 19s 97us/step - loss: 0.9476 - accuracy: 0.6077 - val_loss: 0.9334 - val_accuracy: 0.6148\n",
      "Epoch 41/100\n",
      "192000/192000 [==============================] - 18s 95us/step - loss: 0.9473 - accuracy: 0.6085 - val_loss: 0.9341 - val_accuracy: 0.6148\n",
      "Epoch 42/100\n",
      "192000/192000 [==============================] - 18s 92us/step - loss: 0.9474 - accuracy: 0.6083 - val_loss: 0.9350 - val_accuracy: 0.6139\n",
      "Epoch 43/100\n",
      "192000/192000 [==============================] - 18s 92us/step - loss: 0.9467 - accuracy: 0.6089 - val_loss: 0.9358 - val_accuracy: 0.6149\n",
      "Epoch 44/100\n",
      "192000/192000 [==============================] - 19s 97us/step - loss: 0.9477 - accuracy: 0.6083 - val_loss: 0.9376 - val_accuracy: 0.6116\n",
      "Epoch 45/100\n",
      "192000/192000 [==============================] - 20s 105us/step - loss: 0.9472 - accuracy: 0.6082 - val_loss: 0.9317 - val_accuracy: 0.6167\n",
      "Epoch 46/100\n",
      "192000/192000 [==============================] - 20s 103us/step - loss: 0.9465 - accuracy: 0.6089 - val_loss: 0.9355 - val_accuracy: 0.6135\n",
      "Epoch 47/100\n",
      "192000/192000 [==============================] - 20s 102us/step - loss: 0.9462 - accuracy: 0.6089 - val_loss: 0.9327 - val_accuracy: 0.6139\n",
      "Epoch 48/100\n",
      "192000/192000 [==============================] - 20s 102us/step - loss: 0.9465 - accuracy: 0.6089 - val_loss: 0.9344 - val_accuracy: 0.6131\n",
      "Epoch 49/100\n",
      "192000/192000 [==============================] - 20s 105us/step - loss: 0.9465 - accuracy: 0.6084 - val_loss: 0.9359 - val_accuracy: 0.6145\n",
      "Epoch 50/100\n",
      "192000/192000 [==============================] - 19s 101us/step - loss: 0.9467 - accuracy: 0.6086 - val_loss: 0.9345 - val_accuracy: 0.6148\n",
      "Epoch 51/100\n",
      "192000/192000 [==============================] - 19s 99us/step - loss: 0.9452 - accuracy: 0.6090 - val_loss: 0.9302 - val_accuracy: 0.6149\n",
      "Epoch 52/100\n",
      "192000/192000 [==============================] - 20s 107us/step - loss: 0.9458 - accuracy: 0.6090 - val_loss: 0.9339 - val_accuracy: 0.6146\n",
      "Epoch 53/100\n",
      "192000/192000 [==============================] - 17s 89us/step - loss: 0.9467 - accuracy: 0.6093 - val_loss: 0.9360 - val_accuracy: 0.6137\n",
      "Epoch 54/100\n",
      "192000/192000 [==============================] - 19s 96us/step - loss: 0.9463 - accuracy: 0.6080 - val_loss: 0.9317 - val_accuracy: 0.6140\n",
      "Epoch 55/100\n",
      "192000/192000 [==============================] - 20s 106us/step - loss: 0.9461 - accuracy: 0.6083 - val_loss: 0.9331 - val_accuracy: 0.6165\n",
      "Epoch 56/100\n",
      "192000/192000 [==============================] - 21s 108us/step - loss: 0.9464 - accuracy: 0.6097 - val_loss: 0.9337 - val_accuracy: 0.6143\n",
      "Epoch 57/100\n",
      "192000/192000 [==============================] - 17s 90us/step - loss: 0.9457 - accuracy: 0.6094 - val_loss: 0.9322 - val_accuracy: 0.6167\n",
      "Epoch 58/100\n",
      "192000/192000 [==============================] - 20s 102us/step - loss: 0.9456 - accuracy: 0.6099 - val_loss: 0.9319 - val_accuracy: 0.6157\n",
      "Epoch 59/100\n",
      "192000/192000 [==============================] - 21s 108us/step - loss: 0.9463 - accuracy: 0.6082 - val_loss: 0.9295 - val_accuracy: 0.6135\n",
      "Epoch 60/100\n",
      "192000/192000 [==============================] - 22s 115us/step - loss: 0.9447 - accuracy: 0.6078 - val_loss: 0.9339 - val_accuracy: 0.6160\n",
      "Epoch 61/100\n",
      "192000/192000 [==============================] - 22s 112us/step - loss: 0.9457 - accuracy: 0.6089 - val_loss: 0.9338 - val_accuracy: 0.6144\n",
      "Epoch 62/100\n",
      "192000/192000 [==============================] - 21s 109us/step - loss: 0.9461 - accuracy: 0.6091 - val_loss: 0.9319 - val_accuracy: 0.6158\n",
      "Epoch 63/100\n",
      "192000/192000 [==============================] - 22s 114us/step - loss: 0.9450 - accuracy: 0.6087 - val_loss: 0.9315 - val_accuracy: 0.6151\n",
      "Epoch 64/100\n",
      "192000/192000 [==============================] - 22s 114us/step - loss: 0.9452 - accuracy: 0.6091 - val_loss: 0.9306 - val_accuracy: 0.6135\n",
      "Epoch 65/100\n",
      "192000/192000 [==============================] - 20s 107us/step - loss: 0.9446 - accuracy: 0.6087 - val_loss: 0.9324 - val_accuracy: 0.6149\n",
      "Epoch 66/100\n",
      "192000/192000 [==============================] - 21s 108us/step - loss: 0.9453 - accuracy: 0.6093 - val_loss: 0.9311 - val_accuracy: 0.6146\n",
      "Epoch 67/100\n",
      "192000/192000 [==============================] - 23s 119us/step - loss: 0.9446 - accuracy: 0.6100 - val_loss: 0.9322 - val_accuracy: 0.6148\n",
      "Epoch 68/100\n",
      "192000/192000 [==============================] - 21s 110us/step - loss: 0.9442 - accuracy: 0.6098 - val_loss: 0.9320 - val_accuracy: 0.6148\n",
      "Epoch 69/100\n",
      "192000/192000 [==============================] - 23s 118us/step - loss: 0.9439 - accuracy: 0.6091 - val_loss: 0.9345 - val_accuracy: 0.6130\n",
      "Epoch 70/100\n",
      "192000/192000 [==============================] - 24s 126us/step - loss: 0.9445 - accuracy: 0.6096 - val_loss: 0.9318 - val_accuracy: 0.6130\n",
      "Epoch 71/100\n",
      "192000/192000 [==============================] - 23s 121us/step - loss: 0.9437 - accuracy: 0.6089 - val_loss: 0.9286 - val_accuracy: 0.6168\n",
      "Epoch 72/100\n",
      "192000/192000 [==============================] - 21s 109us/step - loss: 0.9434 - accuracy: 0.6095 - val_loss: 0.9332 - val_accuracy: 0.6178\n",
      "Epoch 73/100\n",
      "192000/192000 [==============================] - 21s 107us/step - loss: 0.9442 - accuracy: 0.6087 - val_loss: 0.9304 - val_accuracy: 0.6158\n",
      "Epoch 74/100\n",
      "192000/192000 [==============================] - 18s 96us/step - loss: 0.9438 - accuracy: 0.6096 - val_loss: 0.9285 - val_accuracy: 0.6161\n",
      "Epoch 75/100\n",
      "192000/192000 [==============================] - 21s 110us/step - loss: 0.9433 - accuracy: 0.6095 - val_loss: 0.9299 - val_accuracy: 0.6161\n",
      "Epoch 76/100\n",
      "192000/192000 [==============================] - 21s 107us/step - loss: 0.9429 - accuracy: 0.6090 - val_loss: 0.9333 - val_accuracy: 0.6152\n",
      "Epoch 77/100\n",
      "192000/192000 [==============================] - 22s 113us/step - loss: 0.9435 - accuracy: 0.6094 - val_loss: 0.9316 - val_accuracy: 0.6142\n",
      "Epoch 78/100\n",
      "192000/192000 [==============================] - 21s 111us/step - loss: 0.9433 - accuracy: 0.6097 - val_loss: 0.9284 - val_accuracy: 0.6171\n",
      "Epoch 79/100\n",
      "192000/192000 [==============================] - 20s 105us/step - loss: 0.9437 - accuracy: 0.6101 - val_loss: 0.9294 - val_accuracy: 0.6168\n",
      "Epoch 80/100\n",
      "192000/192000 [==============================] - 21s 111us/step - loss: 0.9435 - accuracy: 0.6089 - val_loss: 0.9309 - val_accuracy: 0.6118\n",
      "Epoch 81/100\n",
      "192000/192000 [==============================] - 23s 121us/step - loss: 0.9436 - accuracy: 0.6093 - val_loss: 0.9325 - val_accuracy: 0.6143\n",
      "Epoch 82/100\n",
      "192000/192000 [==============================] - 21s 109us/step - loss: 0.9428 - accuracy: 0.6096 - val_loss: 0.9322 - val_accuracy: 0.6129\n",
      "Epoch 83/100\n",
      "192000/192000 [==============================] - 21s 110us/step - loss: 0.9441 - accuracy: 0.6092 - val_loss: 0.9301 - val_accuracy: 0.6150\n",
      "Epoch 84/100\n",
      "192000/192000 [==============================] - 22s 112us/step - loss: 0.9425 - accuracy: 0.6091 - val_loss: 0.9271 - val_accuracy: 0.6156\n",
      "Epoch 85/100\n",
      "192000/192000 [==============================] - 21s 108us/step - loss: 0.9430 - accuracy: 0.6092 - val_loss: 0.9330 - val_accuracy: 0.6146\n",
      "Epoch 86/100\n",
      "192000/192000 [==============================] - 22s 113us/step - loss: 0.9431 - accuracy: 0.6099 - val_loss: 0.9315 - val_accuracy: 0.6124\n",
      "Epoch 87/100\n",
      "192000/192000 [==============================] - 23s 119us/step - loss: 0.9434 - accuracy: 0.6091 - val_loss: 0.9300 - val_accuracy: 0.6173\n",
      "Epoch 88/100\n",
      "192000/192000 [==============================] - 22s 114us/step - loss: 0.9430 - accuracy: 0.6104 - val_loss: 0.9282 - val_accuracy: 0.6158\n",
      "Epoch 89/100\n",
      "192000/192000 [==============================] - 22s 116us/step - loss: 0.9425 - accuracy: 0.6088 - val_loss: 0.9300 - val_accuracy: 0.6159\n",
      "Epoch 90/100\n",
      "192000/192000 [==============================] - 21s 107us/step - loss: 0.9421 - accuracy: 0.6092 - val_loss: 0.9321 - val_accuracy: 0.6151\n",
      "Epoch 91/100\n",
      "192000/192000 [==============================] - 23s 121us/step - loss: 0.9419 - accuracy: 0.6099 - val_loss: 0.9316 - val_accuracy: 0.6162\n",
      "Epoch 92/100\n",
      "192000/192000 [==============================] - 25s 131us/step - loss: 0.9416 - accuracy: 0.6103 - val_loss: 0.9310 - val_accuracy: 0.6148\n",
      "Epoch 93/100\n",
      "192000/192000 [==============================] - 25s 128us/step - loss: 0.9421 - accuracy: 0.6101 - val_loss: 0.9297 - val_accuracy: 0.6180\n",
      "Epoch 94/100\n",
      "192000/192000 [==============================] - 23s 121us/step - loss: 0.9416 - accuracy: 0.6097 - val_loss: 0.9265 - val_accuracy: 0.6159\n",
      "Epoch 95/100\n",
      "192000/192000 [==============================] - 28s 145us/step - loss: 0.9420 - accuracy: 0.6102 - val_loss: 0.9306 - val_accuracy: 0.6144\n",
      "Epoch 96/100\n",
      "192000/192000 [==============================] - 26s 135us/step - loss: 0.9420 - accuracy: 0.6098 - val_loss: 0.9296 - val_accuracy: 0.6164\n",
      "Epoch 97/100\n",
      "192000/192000 [==============================] - 28s 146us/step - loss: 0.9415 - accuracy: 0.6095 - val_loss: 0.9291 - val_accuracy: 0.6187\n",
      "Epoch 98/100\n",
      "192000/192000 [==============================] - 27s 139us/step - loss: 0.9420 - accuracy: 0.6102 - val_loss: 0.9313 - val_accuracy: 0.6162\n",
      "Epoch 99/100\n",
      "192000/192000 [==============================] - 23s 121us/step - loss: 0.9425 - accuracy: 0.6097 - val_loss: 0.9289 - val_accuracy: 0.6152\n",
      "Epoch 100/100\n",
      "192000/192000 [==============================] - 21s 109us/step - loss: 0.9412 - accuracy: 0.6092 - val_loss: 0.9337 - val_accuracy: 0.6115\n"
     ]
    }
   ],
   "source": [
    "# Early stopping:\n",
    "# Patience tells the model how many epochs to be looking for to see improvement\n",
    "# Min delta is a threshold, so any loss or increase that occurs is an improvement\n",
    "\n",
    "early_stop = EarlyStopping(monitor = 'val_loss', patience = 5, min_delta = 0, restore_best_weights = True) \n",
    "\n",
    "#fit the model\n",
    "\n",
    "history = model.fit(X_train_sc, y_train, validation_data = (X_test_sc, y_test), epochs = 100, batch_size = 32)"
   ]
  },
  {
   "cell_type": "code",
   "execution_count": 43,
   "metadata": {
    "scrolled": false
   },
   "outputs": [
    {
     "data": {
      "image/png": "[encoded data removed]",
      "text/plain": [
       "<Figure size 864x576 with 1 Axes>"
      ]
     },
     "metadata": {},
     "output_type": "display_data"
    }
   ],
   "source": [
    "# Check out our train loss and test loss over epochs.\n",
    "\n",
    "train_loss = history.history['loss']\n",
    "test_loss = history.history['val_loss']\n",
    "train_accuracy = history.history['accuracy']\n",
    "test_accuracy = history.history['val_accuracy']\n",
    "\n",
    "# Set figure size.\n",
    "\n",
    "plt.figure(figsize=(12, 8))\n",
    "\n",
    "# Generate line plot of training, testing loss over epochs.\n",
    "\n",
    "plt.plot(train_loss, label='Training Loss', color='#185fad')\n",
    "plt.plot(test_loss, label='Testing Loss', color='orange')\n",
    "\n",
    "# Generate line plot of training, testing loss over epochs.\n",
    "\n",
    "plt.plot(train_accuracy, label='Training accuracy', color='red')\n",
    "plt.plot(test_accuracy, label='Testing accuracy', color='purple')\n",
    "\n",
    "# Set title\n",
    "\n",
    "plt.title('Training and Testing Loss and accuracy by Epoch', fontsize = 25)\n",
    "plt.xlabel('Epoch', fontsize = 18)\n",
    "plt.ylabel('Categorical Crossentropy', fontsize = 18)\n",
    "\n",
    "plt.legend(fontsize = 18);"
   ]
  },
  {
   "cell_type": "markdown",
   "metadata": {},
   "source": [
    "<div style=\"text-align: right\">(<a href=\"#contents\">home</a>) </div>"
   ]
  }
 ],
 "metadata": {
  "kernelspec": {
   "display_name": "Python 3",
   "language": "python",
   "name": "python3"
  },
  "language_info": {
   "codemirror_mode": {
    "name": "ipython",
    "version": 3
   },
   "file_extension": ".py",
   "mimetype": "text/x-python",
   "name": "python",
   "nbconvert_exporter": "python",
   "pygments_lexer": "ipython3",
   "version": "3.7.6"
  }
 },
 "nbformat": 4,
 "nbformat_minor": 4
}
